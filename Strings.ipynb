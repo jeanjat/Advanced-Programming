{
 "cells": [
  {
   "cell_type": "markdown",
   "id": "3e7e125d-6d03-4da6-868e-2f250837ac80",
   "metadata": {},
   "source": [
    "# Strings\n",
    "This is a list of basic commands of strings"
   ]
  },
  {
   "cell_type": "code",
   "execution_count": 1,
   "id": "ac79a5d9-9c23-4166-bc3b-26b1dbecfcd9",
   "metadata": {},
   "outputs": [
    {
     "name": "stdout",
     "output_type": "stream",
     "text": [
      "J\n",
      "4\n",
      "JeanCarlo\n"
     ]
    }
   ],
   "source": [
    "#declaration of strings\n",
    "s='Jean'\n",
    "print(s[0]) #J\n",
    "print(len(s)) #4\n",
    "print(s + 'Carlo')"
   ]
  },
  {
   "cell_type": "markdown",
   "id": "3e6a5805-4dbb-41f8-a473-e32575cc293b",
   "metadata": {},
   "source": [
    "## Concatenation"
   ]
  },
  {
   "cell_type": "code",
   "execution_count": 2,
   "id": "2f32817f-e04a-4a9f-bf5f-1464827eb1cb",
   "metadata": {},
   "outputs": [
    {
     "name": "stdout",
     "output_type": "stream",
     "text": [
      "The value of e is 2.71\n"
     ]
    }
   ],
   "source": [
    "e = 2.71\n",
    "Text = 'The value of e is ' +str(e)\n",
    "print(Text)"
   ]
  },
  {
   "cell_type": "markdown",
   "id": "e9535687-e178-44ac-acd9-5c81881790f5",
   "metadata": {},
   "source": [
    "## Raw Strings"
   ]
  },
  {
   "cell_type": "code",
   "execution_count": 3,
   "id": "58aa20ae-32b2-4c8f-a2a2-4fd8f0cbaeb6",
   "metadata": {},
   "outputs": [
    {
     "name": "stdout",
     "output_type": "stream",
     "text": [
      "this is s\\till a stri\\ng\n",
      "\n",
      "if this is printed.\n",
      "then i will know it works\n"
     ]
    }
   ],
   "source": [
    "raw = r'this is s\\till a stri\\ng'\n",
    "print(raw+'\\n')\n",
    "\n",
    "rstring= \"\"\"if this is printed.\n",
    "then i will know it works\"\"\"\n",
    "print(rstring)"
   ]
  },
  {
   "cell_type": "markdown",
   "id": "336beabd-0baf-4235-a6bd-64704603a093",
   "metadata": {},
   "source": [
    "## Strings Methods"
   ]
  },
  {
   "cell_type": "code",
   "execution_count": 4,
   "id": "f43cc809-84a9-45df-a2bc-e3a8278f2a20",
   "metadata": {},
   "outputs": [
    {
     "name": "stdout",
     "output_type": "stream",
     "text": [
      "ORNITORRINCO\n",
      "the thing\n",
      "Hey!!\n"
     ]
    }
   ],
   "source": [
    "s='ornitorrinco' #platypus in spanish\n",
    "print(s.upper()) #returns Uppercase string\n",
    "\n",
    "st='THE THING'\n",
    "print(st.lower()) #returns Lowercase string\n",
    "st1='         Hey!!       ' \n",
    "print(st1.strip()) #removes white space from the beginning and end"
   ]
  },
  {
   "cell_type": "code",
   "execution_count": 5,
   "id": "769a9b57-8b1d-40a2-878d-ee78256ee729",
   "metadata": {},
   "outputs": [
    {
     "data": {
      "text/plain": [
       "True"
      ]
     },
     "execution_count": 5,
     "metadata": {},
     "output_type": "execute_result"
    }
   ],
   "source": [
    "s='abecedario' #alphabet in spanish\n",
    "s.isalpha() #returns true if all characters are letters"
   ]
  },
  {
   "cell_type": "code",
   "execution_count": 6,
   "id": "4e8cf868-aac3-4517-ae0c-7c32555a34ed",
   "metadata": {},
   "outputs": [
    {
     "data": {
      "text/plain": [
       "False"
      ]
     },
     "execution_count": 6,
     "metadata": {},
     "output_type": "execute_result"
    }
   ],
   "source": [
    "s1='12345'\n",
    "s1.isalpha()"
   ]
  },
  {
   "cell_type": "code",
   "execution_count": 7,
   "id": "b9c86bea-ed51-45df-9cea-9fd5eb2512f7",
   "metadata": {},
   "outputs": [
    {
     "data": {
      "text/plain": [
       "True"
      ]
     },
     "execution_count": 7,
     "metadata": {},
     "output_type": "execute_result"
    }
   ],
   "source": [
    "s1.isdigit() #returns true if all characters are numeric"
   ]
  },
  {
   "cell_type": "code",
   "execution_count": 8,
   "id": "6928d6cd-5a7e-49a7-a5fe-3d1c9cf52bb2",
   "metadata": {},
   "outputs": [
    {
     "data": {
      "text/plain": [
       "True"
      ]
     },
     "execution_count": 8,
     "metadata": {},
     "output_type": "execute_result"
    }
   ],
   "source": [
    "space='            '\n",
    "space.isspace()"
   ]
  },
  {
   "cell_type": "code",
   "execution_count": 9,
   "id": "e2a4dba0-ea60-409f-8ddd-c7fcbe790606",
   "metadata": {},
   "outputs": [
    {
     "data": {
      "text/plain": [
       "True"
      ]
     },
     "execution_count": 9,
     "metadata": {},
     "output_type": "execute_result"
    }
   ],
   "source": [
    "s='ornitorrinco'\n",
    "s.startswith('or') #tests if the string stars with the given string"
   ]
  },
  {
   "cell_type": "code",
   "execution_count": 10,
   "id": "7cd169f7-3808-4a7e-8a7a-2bbedb80d772",
   "metadata": {},
   "outputs": [
    {
     "data": {
      "text/plain": [
       "True"
      ]
     },
     "execution_count": 10,
     "metadata": {},
     "output_type": "execute_result"
    }
   ],
   "source": [
    "s.endswith('inco') #tests if the string ends with the given string"
   ]
  },
  {
   "cell_type": "code",
   "execution_count": 11,
   "id": "53017528-138e-410a-9a68-c881057ba269",
   "metadata": {},
   "outputs": [
    {
     "data": {
      "text/plain": [
       "0"
      ]
     },
     "execution_count": 11,
     "metadata": {},
     "output_type": "execute_result"
    }
   ],
   "source": [
    "s='advanced'\n",
    "s.find('ad') #returns the position where a character/s is found"
   ]
  },
  {
   "cell_type": "code",
   "execution_count": 49,
   "id": "9b9f9da9-efa7-4d3b-bac7-8c8340d13f03",
   "metadata": {},
   "outputs": [
    {
     "data": {
      "text/plain": [
       "'bl*ck'"
      ]
     },
     "execution_count": 49,
     "metadata": {},
     "output_type": "execute_result"
    }
   ],
   "source": [
    "s='black'\n",
    "s.replace('a','*') #replace an 'old' string/character for a new one"
   ]
  },
  {
   "cell_type": "code",
   "execution_count": 13,
   "id": "c0d65855-cc93-44c1-b336-75c11744ea16",
   "metadata": {},
   "outputs": [
    {
     "name": "stdout",
     "output_type": "stream",
     "text": [
      "['Advanced', 'Programming']\n"
     ]
    }
   ],
   "source": [
    "s='Advanced Programming'\n",
    "s1=s.split(' ') #splits the string by a given character\n",
    "print(s1)"
   ]
  },
  {
   "cell_type": "code",
   "execution_count": 14,
   "id": "011d527f-faf5-454b-b391-0c7446d6a630",
   "metadata": {},
   "outputs": [
    {
     "data": {
      "text/plain": [
       "'Advanced-Programming'"
      ]
     },
     "execution_count": 14,
     "metadata": {},
     "output_type": "execute_result"
    }
   ],
   "source": [
    "'-'.join(s1) #joins the string by a character given at the beginnig"
   ]
  },
  {
   "cell_type": "markdown",
   "id": "a3bc51a2-ec5f-4bc9-932b-b26e4cb23c5b",
   "metadata": {},
   "source": [
    "## String Slices"
   ]
  },
  {
   "cell_type": "code",
   "execution_count": 50,
   "id": "adba084b-03b8-43e7-98f7-4942b600c268",
   "metadata": {},
   "outputs": [
    {
     "data": {
      "text/plain": [
       "'Je'"
      ]
     },
     "execution_count": 50,
     "metadata": {},
     "output_type": "execute_result"
    }
   ],
   "source": [
    "s='Jean'\n",
    "s[0:2] #this would only print Je"
   ]
  },
  {
   "cell_type": "code",
   "execution_count": 18,
   "id": "24909715-2ba9-4d40-b567-55e718b2a612",
   "metadata": {},
   "outputs": [
    {
     "data": {
      "text/plain": [
       "'an'"
      ]
     },
     "execution_count": 18,
     "metadata": {},
     "output_type": "execute_result"
    }
   ],
   "source": [
    "#lets print only an\n",
    "s[2:]"
   ]
  },
  {
   "cell_type": "code",
   "execution_count": 20,
   "id": "f4e4e8f1-2f5d-4b4f-b94e-94fd5d32d1e7",
   "metadata": {},
   "outputs": [
    {
     "data": {
      "text/plain": [
       "'Jean'"
      ]
     },
     "execution_count": 20,
     "metadata": {},
     "output_type": "execute_result"
    }
   ],
   "source": [
    "#now the whole string\n",
    "s[:]"
   ]
  },
  {
   "cell_type": "code",
   "execution_count": 22,
   "id": "cd0713f9-ccd4-4468-a6a0-d73cb305f9ba",
   "metadata": {},
   "outputs": [
    {
     "data": {
      "text/plain": [
       "'Jea'"
      ]
     },
     "execution_count": 22,
     "metadata": {},
     "output_type": "execute_result"
    }
   ],
   "source": [
    "s[:-1] #this would print the string from the beginnig excluding the last character"
   ]
  },
  {
   "cell_type": "code",
   "execution_count": 23,
   "id": "7a4f6166-ae04-4427-a0ce-200223ccab6a",
   "metadata": {},
   "outputs": [
    {
     "data": {
      "text/plain": [
       "'ean'"
      ]
     },
     "execution_count": 23,
     "metadata": {},
     "output_type": "execute_result"
    }
   ],
   "source": [
    "s[-3:] #this would print just the string from the position -3 till the end"
   ]
  },
  {
   "cell_type": "markdown",
   "id": "576e8807-5428-42cf-a407-521bdd27ddd6",
   "metadata": {},
   "source": [
    "## String Formatting"
   ]
  },
  {
   "cell_type": "code",
   "execution_count": 25,
   "id": "a449be9a-06f6-40f8-a030-b0607b41e58d",
   "metadata": {},
   "outputs": [
    {
     "name": "stdout",
     "output_type": "stream",
     "text": [
      "approximate value of e= 2.72\n"
     ]
    }
   ],
   "source": [
    "e = 2.718281\n",
    "print(f'approximate value of e= {e:.2f}')  # approximate value = 2.72"
   ]
  },
  {
   "cell_type": "code",
   "execution_count": 26,
   "id": "4a0e8a4b-9647-48c1-b1da-b2170acebbf0",
   "metadata": {},
   "outputs": [
    {
     "name": "stdout",
     "output_type": "stream",
     "text": [
      "spider = {'legs': 8, 'eyes': 8}\n"
     ]
    }
   ],
   "source": [
    "spider= {'legs':8, 'eyes':8}\n",
    "print(f'spider = {spider}')"
   ]
  },
  {
   "cell_type": "code",
   "execution_count": 37,
   "id": "8b553825-ec23-484e-95a6-189ce583920d",
   "metadata": {},
   "outputs": [
    {
     "name": "stdout",
     "output_type": "stream",
     "text": [
      "Tito || 6 || apricot\n",
      "Coco || 1 || black\n"
     ]
    }
   ],
   "source": [
    "my_pets = [{'name':'Tito', 'age':6, 'color':'apricot'},\n",
    "      {'name':'Coco', 'age':1, 'color':'black'}]\n",
    "\n",
    "for dog in my_pets:\n",
    "    print(f'{dog[\"name\"]:4} || {dog[\"age\"]:1} || {dog[\"color\"]:4}')"
   ]
  },
  {
   "cell_type": "code",
   "execution_count": null,
   "id": "805b9893-cf01-45e4-9a6d-46043a0db68a",
   "metadata": {},
   "outputs": [],
   "source": []
  }
 ],
 "metadata": {
  "kernelspec": {
   "display_name": "Python 3 (ipykernel)",
   "language": "python",
   "name": "python3"
  },
  "language_info": {
   "codemirror_mode": {
    "name": "ipython",
    "version": 3
   },
   "file_extension": ".py",
   "mimetype": "text/x-python",
   "name": "python",
   "nbconvert_exporter": "python",
   "pygments_lexer": "ipython3",
   "version": "3.11.7"
  }
 },
 "nbformat": 4,
 "nbformat_minor": 5
}
