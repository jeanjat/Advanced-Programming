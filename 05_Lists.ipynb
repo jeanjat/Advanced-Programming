{
 "cells": [
  {
   "cell_type": "markdown",
   "id": "914f14e9-f63e-4828-9c52-7e92a97ba24c",
   "metadata": {},
   "source": [
    "# Lists"
   ]
  },
  {
   "cell_type": "markdown",
   "id": "f53a0fbe-239d-4566-b702-1bb7f2364a43",
   "metadata": {},
   "source": [
    "This is a list of basic commands of lists in Python"
   ]
  },
  {
   "cell_type": "code",
   "execution_count": 1,
   "id": "5cd58d55-20f6-47cf-a40b-977558e56f83",
   "metadata": {},
   "outputs": [
    {
     "name": "stdout",
     "output_type": "stream",
     "text": [
      "coco\n",
      "tito\n",
      "2\n"
     ]
    }
   ],
   "source": [
    "pets = ['coco', 'tito']\n",
    "print(pets[0])\n",
    "print(pets[1])   \n",
    "print(len(pets))"
   ]
  },
  {
   "cell_type": "code",
   "execution_count": 2,
   "id": "692df00c-b7c8-45c7-a4a8-4b8a1f437f3d",
   "metadata": {},
   "outputs": [
    {
     "name": "stdout",
     "output_type": "stream",
     "text": [
      "['coco', 'tito', 'Hugo', 'Jean']\n"
     ]
    }
   ],
   "source": [
    "brothers=['Hugo','Jean']\n",
    "print(pets+brothers) "
   ]
  },
  {
   "cell_type": "markdown",
   "id": "2569794f-a149-432d-8bc9-c1ef8e2ac447",
   "metadata": {},
   "source": [
    "## For and in"
   ]
  },
  {
   "cell_type": "code",
   "execution_count": 3,
   "id": "47213d08-42fd-473b-badc-8fe82ef96f0a",
   "metadata": {},
   "outputs": [
    {
     "name": "stdout",
     "output_type": "stream",
     "text": [
      "29\n"
     ]
    }
   ],
   "source": [
    "prime_num = [1, 2, 3, 5, 7, 11]\n",
    "sum = 0\n",
    "for num in prime_num: \n",
    "    sum += num\n",
    "print(sum)"
   ]
  },
  {
   "cell_type": "code",
   "execution_count": 4,
   "id": "a6c6dedb-c736-4c0c-a9a1-350b8ff42f79",
   "metadata": {},
   "outputs": [
    {
     "name": "stdout",
     "output_type": "stream",
     "text": [
      "1\n",
      "2\n",
      "3\n",
      "5\n",
      "7\n",
      "11\n"
     ]
    }
   ],
   "source": [
    "for i in range(len(prime_num)): # print every element of a list\n",
    "    print(prime_num[i]),"
   ]
  },
  {
   "cell_type": "code",
   "execution_count": 5,
   "id": "23574c46-14df-40b0-9f5d-f6a9a23a98d2",
   "metadata": {},
   "outputs": [
    {
     "name": "stdout",
     "output_type": "stream",
     "text": [
      "Tito is here\n"
     ]
    }
   ],
   "source": [
    "x=pets+brothers\n",
    "if 'tito' in x:\n",
    "    print('Tito is here')"
   ]
  },
  {
   "cell_type": "code",
   "execution_count": 6,
   "id": "88b2be21-cdac-4607-9bcc-038ff382dc53",
   "metadata": {},
   "outputs": [
    {
     "name": "stdout",
     "output_type": "stream",
     "text": [
      "coco\n",
      "tito\n",
      "Hugo\n",
      "Jean\n"
     ]
    }
   ],
   "source": [
    "#another way to print every element\n",
    "for ch in x: \n",
    "    print(ch)"
   ]
  },
  {
   "cell_type": "markdown",
   "id": "78fdd16f-fd0f-431a-8006-3208afb884cd",
   "metadata": {},
   "source": [
    "## Range"
   ]
  },
  {
   "cell_type": "code",
   "execution_count": 7,
   "id": "f9fd5462-9efe-4289-a2b8-39c7a5224d67",
   "metadata": {},
   "outputs": [
    {
     "name": "stdout",
     "output_type": "stream",
     "text": [
      "2\n",
      "4\n",
      "6\n",
      "8\n",
      "10\n",
      "12\n",
      "14\n",
      "16\n",
      "18\n",
      "20\n",
      "22\n",
      "24\n",
      "26\n",
      "28\n",
      "30\n",
      "32\n",
      "34\n",
      "36\n",
      "38\n",
      "40\n",
      "42\n",
      "44\n",
      "46\n",
      "48\n",
      "50\n",
      "52\n",
      "54\n",
      "56\n",
      "58\n",
      "60\n",
      "62\n",
      "64\n",
      "66\n",
      "68\n",
      "70\n",
      "72\n",
      "74\n",
      "76\n",
      "78\n",
      "80\n",
      "82\n",
      "84\n",
      "86\n",
      "88\n",
      "90\n",
      "92\n",
      "94\n",
      "96\n",
      "98\n"
     ]
    }
   ],
   "source": [
    "## print the pair numbers from 0 through 99\n",
    "for i in range(100):\n",
    "    if i%2==0 and i>0:\n",
    "        print(i)"
   ]
  },
  {
   "cell_type": "code",
   "execution_count": 8,
   "id": "b7f7565b-871d-48b7-88d4-26673077d743",
   "metadata": {},
   "outputs": [
    {
     "name": "stdout",
     "output_type": "stream",
     "text": [
      "50\n",
      "52\n",
      "54\n",
      "56\n",
      "58\n",
      "60\n",
      "[50, 52, 54, 56, 58, 60]\n"
     ]
    }
   ],
   "source": [
    "## print the pair numbers from 50 through 61\n",
    "x=[]\n",
    "for i in range(50,61):\n",
    "    if i%2==0:\n",
    "        print(i)\n",
    "        x.append(i) #adds the element to the list x\n",
    "print(x)"
   ]
  },
  {
   "cell_type": "markdown",
   "id": "fa13093d-e267-426b-b894-53a33c0d9681",
   "metadata": {},
   "source": [
    "## While"
   ]
  },
  {
   "cell_type": "code",
   "execution_count": 9,
   "id": "2a61a58e-2551-4c8d-92d8-0273e9d6ed39",
   "metadata": {},
   "outputs": [
    {
     "name": "stdout",
     "output_type": "stream",
     "text": [
      "50\n",
      "54\n",
      "58\n"
     ]
    }
   ],
   "source": [
    "i = 0\n",
    "while i < len(x): # access every second element in a list\n",
    "    print(x[i])\n",
    "    i = i + 2"
   ]
  },
  {
   "cell_type": "markdown",
   "id": "e0056051-9fe6-41ca-a1bc-2ba23b6426f0",
   "metadata": {},
   "source": [
    "## List Methods"
   ]
  },
  {
   "cell_type": "code",
   "execution_count": 10,
   "id": "286c2122-970f-4ad6-9b2e-ce22a9147b6a",
   "metadata": {},
   "outputs": [
    {
     "name": "stdout",
     "output_type": "stream",
     "text": [
      "['coco', 'tito', 'mimi']\n"
     ]
    }
   ],
   "source": [
    "pets = ['coco', 'tito']\n",
    "pets.append('mimi') #adds a new element to the list\n",
    "print(pets)"
   ]
  },
  {
   "cell_type": "code",
   "execution_count": 11,
   "id": "0757bc27-3ea2-4353-9762-0897a11e6b4a",
   "metadata": {},
   "outputs": [
    {
     "name": "stdout",
     "output_type": "stream",
     "text": [
      "['pocho', 'coco', 'tito', 'mimi']\n"
     ]
    }
   ],
   "source": [
    "pets.insert(0,'pocho') #inserts a new element to the list in the given index\n",
    "print(pets)"
   ]
  },
  {
   "cell_type": "code",
   "execution_count": 12,
   "id": "8237504f-36b5-46cc-8fc1-e3312efb1702",
   "metadata": {},
   "outputs": [
    {
     "name": "stdout",
     "output_type": "stream",
     "text": [
      "['pocho', 'coco', 'tito', 'mimi', 'Hugo', 'Jean']\n"
     ]
    }
   ],
   "source": [
    "brothers=['Hugo','Jean'] \n",
    "pets.extend(brothers) #adds a second list to the end of the first one\n",
    "print(pets)"
   ]
  },
  {
   "cell_type": "code",
   "execution_count": 13,
   "id": "a5d840d0-51f4-476a-99c6-5491df8c2c49",
   "metadata": {},
   "outputs": [
    {
     "data": {
      "text/plain": [
       "3"
      ]
     },
     "execution_count": 13,
     "metadata": {},
     "output_type": "execute_result"
    }
   ],
   "source": [
    "pets.index('mimi') # search for a element in a list and returns its index"
   ]
  },
  {
   "cell_type": "code",
   "execution_count": 14,
   "id": "f0124f51-3609-41e5-bacf-fc348fbad800",
   "metadata": {},
   "outputs": [
    {
     "ename": "ValueError",
     "evalue": "'goncha' is not in list",
     "output_type": "error",
     "traceback": [
      "\u001b[1;31m---------------------------------------------------------------------------\u001b[0m",
      "\u001b[1;31mValueError\u001b[0m                                Traceback (most recent call last)",
      "Cell \u001b[1;32mIn[14], line 1\u001b[0m\n\u001b[1;32m----> 1\u001b[0m pets\u001b[38;5;241m.\u001b[39mindex(\u001b[38;5;124m'\u001b[39m\u001b[38;5;124mgoncha\u001b[39m\u001b[38;5;124m'\u001b[39m)\n",
      "\u001b[1;31mValueError\u001b[0m: 'goncha' is not in list"
     ]
    }
   ],
   "source": [
    "pets.index('goncha')"
   ]
  },
  {
   "cell_type": "code",
   "execution_count": 15,
   "id": "69bd15dd-6141-483f-99d1-b4fec4ca0a7f",
   "metadata": {},
   "outputs": [
    {
     "name": "stdout",
     "output_type": "stream",
     "text": [
      "['coco', 'tito', 'mimi', 'Hugo', 'Jean']\n"
     ]
    }
   ],
   "source": [
    "pets.remove('pocho') #removes an element from a list\n",
    "print(pets)"
   ]
  },
  {
   "cell_type": "code",
   "execution_count": 16,
   "id": "1d411de9-a422-4b33-afef-56411ea4978e",
   "metadata": {},
   "outputs": [
    {
     "name": "stdout",
     "output_type": "stream",
     "text": [
      "['Hugo', 'Jean', 'coco', 'mimi', 'tito']\n"
     ]
    }
   ],
   "source": [
    "pets.sort() #sorts the list\n",
    "print(pets)"
   ]
  },
  {
   "cell_type": "code",
   "execution_count": 17,
   "id": "9d7f2f07-04bd-4c25-9846-1a63948f1964",
   "metadata": {},
   "outputs": [
    {
     "name": "stdout",
     "output_type": "stream",
     "text": [
      "['tito', 'mimi', 'coco', 'Jean', 'Hugo']\n"
     ]
    }
   ],
   "source": [
    "pets.reverse() #reverses the list\n",
    "print(pets)"
   ]
  },
  {
   "cell_type": "code",
   "execution_count": 18,
   "id": "a253f61c-2ce1-4c3f-b547-3544ee6bc5fa",
   "metadata": {},
   "outputs": [
    {
     "data": {
      "text/plain": [
       "'mimi'"
      ]
     },
     "execution_count": 18,
     "metadata": {},
     "output_type": "execute_result"
    }
   ],
   "source": [
    "pets.pop(1) #removes the element of a given index"
   ]
  },
  {
   "cell_type": "code",
   "execution_count": null,
   "id": "eab6d827-bd49-44ef-9703-a35b70987c97",
   "metadata": {},
   "outputs": [],
   "source": []
  }
 ],
 "metadata": {
  "kernelspec": {
   "display_name": "Python 3 (ipykernel)",
   "language": "python",
   "name": "python3"
  },
  "language_info": {
   "codemirror_mode": {
    "name": "ipython",
    "version": 3
   },
   "file_extension": ".py",
   "mimetype": "text/x-python",
   "name": "python",
   "nbconvert_exporter": "python",
   "pygments_lexer": "ipython3",
   "version": "3.11.7"
  }
 },
 "nbformat": 4,
 "nbformat_minor": 5
}
