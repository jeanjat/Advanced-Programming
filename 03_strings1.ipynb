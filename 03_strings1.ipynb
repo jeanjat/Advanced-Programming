{
 "cells": [
  {
   "cell_type": "markdown",
   "metadata": {},
   "source": [
    "# Solution of the strings1 exercise"
   ]
  },
  {
   "cell_type": "code",
   "execution_count": 1,
   "metadata": {
    "id": "sUFIb-4ErQW8"
   },
   "outputs": [],
   "source": [
    "def donuts(count):\n",
    "  # +++your code here+++\n",
    "  if count >= 10 : #checks if the number is more than 10\n",
    "    a='many'       #if it is true, then it returns 'many'\n",
    "    return a\n",
    "  else :               #if it is less then\n",
    "    return str(count)  #it returns the number as a string\n",
    "\n",
    "  return\n"
   ]
  },
  {
   "cell_type": "code",
   "execution_count": 2,
   "metadata": {
    "id": "URo1r2k8tY9E"
   },
   "outputs": [],
   "source": [
    "def both_ends(s):\n",
    "  # +++your code here+++\n",
    "  if len(s)<2:    #checks if the length of the string is less than 2\n",
    "    a=''          #if it is less than 2\n",
    "    return a      #it returns an empty string\n",
    "  else:           #if its more than 2\n",
    "    s1=s[:2] + s[-2:] #it returns the strings first and last 2 characters\n",
    "    return s1\n",
    "  retur"
   ]
  },
  {
   "cell_type": "code",
   "execution_count": 3,
   "metadata": {
    "id": "Z8_EqvV2vMfQ"
   },
   "outputs": [],
   "source": [
    "def fix_start(s):\n",
    "  # +++your code here+++\n",
    "  s2=s[1:]                #sets a new string excluding the first \n",
    "                          #character of the given string\n",
    "  a=s2.replace(s[0],'*')  #replaces the first character of the original \n",
    "                          #string to * in the whole new string\n",
    "  b=s[0]+a                #concatenates the result\n",
    "  return b"
   ]
  },
  {
   "cell_type": "code",
   "execution_count": 4,
   "metadata": {
    "id": "X5MMI0VXyJ2K"
   },
   "outputs": [],
   "source": [
    "def mix_up(a, b):\n",
    "  # +++your code here+++\n",
    "  j=b[0:2]+a[2:]+' '+a[0:2]+b[2:] \n",
    "  #slices the first two characters of the string b \n",
    "  #concatenates it to the string a (excluding the fist two characters)\n",
    "  #this result is concatenated to a blank space (used as separation)\n",
    "  #then it is concatenated to the first two characters of the string a\n",
    "  #and this is concatenated to the string b \n",
    "  #(excluidng the first two characters)\n",
    "  return j"
   ]
  },
  {
   "cell_type": "code",
   "execution_count": 5,
   "metadata": {
    "colab": {
     "base_uri": "https://localhost:8080/"
    },
    "id": "m_UabhtHrWaE",
    "outputId": "c25b57f2-5d62-4882-efcb-0788ec299b01"
   },
   "outputs": [
    {
     "name": "stdout",
     "output_type": "stream",
     "text": [
      "donuts\n",
      "  X  got: '4' expected: 'Number of donuts: 4'\n",
      "  X  got: '9' expected: 'Number of donuts: 9'\n",
      "  X  got: 'many' expected: 'Number of donuts: many'\n",
      "  X  got: 'many' expected: 'Number of donuts: many'\n",
      "\n",
      "both_ends\n",
      " OK  got: 'spng' expected: 'spng'\n",
      " OK  got: 'Helo' expected: 'Helo'\n",
      " OK  got: '' expected: ''\n",
      " OK  got: 'xyyz' expected: 'xyyz'\n",
      "\n",
      "fix_start\n",
      " OK  got: 'ba**le' expected: 'ba**le'\n",
      " OK  got: 'a*rdv*rk' expected: 'a*rdv*rk'\n",
      " OK  got: 'goo*le' expected: 'goo*le'\n",
      " OK  got: 'donut' expected: 'donut'\n",
      "\n",
      "mix_up\n",
      " OK  got: 'pox mid' expected: 'pox mid'\n",
      " OK  got: 'dig donner' expected: 'dig donner'\n",
      " OK  got: 'spash gnort' expected: 'spash gnort'\n",
      " OK  got: 'fizzy perm' expected: 'fizzy perm'\n"
     ]
    }
   ],
   "source": [
    "def test(got, expected):\n",
    "  if got == expected:\n",
    "    prefix = ' OK '\n",
    "  else:\n",
    "    prefix = '  X '\n",
    "  print('%s got: %s expected: %s' % (prefix, repr(got), repr(expected)))\n",
    "\n",
    "\n",
    "# Provided main() calls the above functions with interesting inputs,\n",
    "# using test() to check if each result is correct or not.\n",
    "def main():\n",
    "  print('donuts')\n",
    "  # Each line calls donuts, compares its result to the expected for that call.\n",
    "  test(donuts(4), 'Number of donuts: 4')\n",
    "  test(donuts(9), 'Number of donuts: 9')\n",
    "  test(donuts(10), 'Number of donuts: many')\n",
    "  test(donuts(99), 'Number of donuts: many')\n",
    "\n",
    "  print()\n",
    "  print('both_ends')\n",
    "  test(both_ends('spring'), 'spng')\n",
    "  test(both_ends('Hello'), 'Helo')\n",
    "  test(both_ends('a'), '')\n",
    "  test(both_ends('xyz'), 'xyyz')\n",
    "\n",
    "  print()\n",
    "  print('fix_start')\n",
    "  test(fix_start('babble'), 'ba**le')\n",
    "  test(fix_start('aardvark'), 'a*rdv*rk')\n",
    "  test(fix_start('google'), 'goo*le')\n",
    "  test(fix_start('donut'), 'donut')\n",
    "\n",
    "  print()\n",
    "  print('mix_up')\n",
    "  test(mix_up('mix', 'pod'), 'pox mid')\n",
    "  test(mix_up('dog', 'dinner'), 'dig donner')\n",
    "  test(mix_up('gnash', 'sport'), 'spash gnort')\n",
    "  test(mix_up('pezzy', 'firm'), 'fizzy perm')\n",
    "# Standard boilerplate to call the main() function.\n",
    "if __name__ == '__main__':\n",
    "  main()"
   ]
  }
 ],
 "metadata": {
  "colab": {
   "provenance": []
  },
  "kernelspec": {
   "display_name": "Python 3 (ipykernel)",
   "language": "python",
   "name": "python3"
  },
  "language_info": {
   "codemirror_mode": {
    "name": "ipython",
    "version": 3
   },
   "file_extension": ".py",
   "mimetype": "text/x-python",
   "name": "python",
   "nbconvert_exporter": "python",
   "pygments_lexer": "ipython3",
   "version": "3.11.7"
  }
 },
 "nbformat": 4,
 "nbformat_minor": 4
}
