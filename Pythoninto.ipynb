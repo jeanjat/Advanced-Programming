{
 "cells": [
  {
   "cell_type": "markdown",
   "metadata": {
    "id": "A1n3iaGfLXH8"
   },
   "source": [
    "# 1. Very simple 'programs'\n",
    "## 1.1 Running Python code\n",
    "Typically, in order to run Python code, you can run it directly from the command line. But with this Jupyter Notebook you can type the commands in the fields and execute them, thus running code in your browser.<br>\n",
    "\n",
    "To start, we will print a \"Hello World\". In the field below, type:<br>\n",
    "```python\n",
    "print('Hello, World')\n",
    "```\n",
    "Then press `<shift> + <return>` to execute the command. \n",
    "\n"
   ]
  },
  {
   "cell_type": "code",
   "execution_count": null,
   "metadata": {
    "colab": {
     "base_uri": "https://localhost:8080/"
    },
    "id": "VG1ZkLFqLXH8",
    "outputId": "a1185067-9f40-44a3-e82f-b0d9de73d3cc"
   },
   "outputs": [
    {
     "name": "stdout",
     "output_type": "stream",
     "text": [
      "Hello, World\n"
     ]
    }
   ],
