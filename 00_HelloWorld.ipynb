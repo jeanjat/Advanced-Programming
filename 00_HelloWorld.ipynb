{
 "cells": [
  {
   "cell_type": "markdown",
   "id": "ad2ca310-f188-4aab-bd40-fd9a674e0588",
   "metadata": {},
   "source": [
    "# Hello World\n",
    "Hello World example with a jupyter Notebook"
   ]
  },
  {
   "cell_type": "code",
   "execution_count": 1,
   "id": "84e12e39-bf13-4d51-9454-a2406cbb59c8",
   "metadata": {},
   "outputs": [
    {
     "name": "stdin",
     "output_type": "stream",
     "text": [
      "Please, type your name:  Jean\n"
     ]
    },
    {
     "name": "stdout",
     "output_type": "stream",
     "text": [
      "¡Hello, Hallo, Hola Jean! ¡Wellcome to Python!\n"
     ]
    }
   ],
   "source": [
    "#really simple Hello World example\n",
    "name = input(\"Please, type your name: \")\n",
    "print(\"¡Hello, Hallo, Hola\", name + \"!\", \"¡Wellcome to Python!\")"
   ]
  },
  {
   "cell_type": "code",
   "execution_count": null,
   "id": "7084fc0d-a0b5-4302-bc20-ffede3f1e288",
   "metadata": {},
   "outputs": [],
   "source": []
  }
 ],
 "metadata": {
  "kernelspec": {
   "display_name": "Python 3 (ipykernel)",
   "language": "python",
   "name": "python3"
  },
  "language_info": {
   "codemirror_mode": {
    "name": "ipython",
    "version": 3
   },
   "file_extension": ".py",
   "mimetype": "text/x-python",
   "name": "python",
   "nbconvert_exporter": "python",
   "pygments_lexer": "ipython3",
   "version": "3.11.7"
  }
 },
 "nbformat": 4,
 "nbformat_minor": 5
}
