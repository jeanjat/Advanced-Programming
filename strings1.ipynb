{
  "nbformat": 4,
  "nbformat_minor": 0,
  "metadata": {
    "colab": {
      "provenance": []
    },
    "kernelspec": {
      "name": "python3",
      "display_name": "Python 3"
    },
    "language_info": {
      "name": "python"
    }
  },
  "cells": [
    {
      "cell_type": "code",
      "execution_count": 3,
      "metadata": {
        "id": "sUFIb-4ErQW8"
      },
      "outputs": [],
      "source": [
        "def donuts(count):\n",
        "  # +++your code here+++\n",
        "  if count >= 10 :\n",
        "    a='many'\n",
        "    return a\n",
        "  else :\n",
        "    return str(count)\n",
        "\n",
        "  return\n"
      ]
    },
    {
      "cell_type": "code",
      "source": [
        "def both_ends(s):\n",
        "  # +++your code here+++\n",
        "  if len(s)<2:\n",
        "    a=''\n",
        "    return a\n",
        "  else:\n",
        "    s1=s[:2] + s[-2:]\n",
        "    return s1\n",
        "  return"
      ],
      "metadata": {
        "id": "URo1r2k8tY9E"
      },
      "execution_count": 5,
      "outputs": []
    },
    {
      "cell_type": "code",
      "source": [
        "def fix_start(s):\n",
        "  # +++your code here+++\n",
        "  s2=s[1:]\n",
        "  a=s2.replace(s[0],'*')\n",
        "  b=s[0]+a\n",
        "  return b"
      ],
      "metadata": {
        "id": "Z8_EqvV2vMfQ"
      },
      "execution_count": 9,
      "outputs": []
    },
    {
      "cell_type": "code",
      "source": [
        "def mix_up(a, b):\n",
        "  # +++your code here+++\n",
        "  j=b[0:2]+a[2:]+' '+a[0:2]+b[2:]\n",
        "\n",
        "  return j"
      ],
      "metadata": {
        "id": "X5MMI0VXyJ2K"
      },
      "execution_count": 11,
      "outputs": []
    },
    {
      "cell_type": "code",
      "source": [
        "def test(got, expected):\n",
        "  if got == expected:\n",
        "    prefix = ' OK '\n",
        "  else:\n",
        "    prefix = '  X '\n",
        "  print('%s got: %s expected: %s' % (prefix, repr(got), repr(expected)))\n",
        "\n",
        "\n",
        "# Provided main() calls the above functions with interesting inputs,\n",
        "# using test() to check if each result is correct or not.\n",
        "def main():\n",
        "  print('donuts')\n",
        "  # Each line calls donuts, compares its result to the expected for that call.\n",
        "  test(donuts(4), 'Number of donuts: 4')\n",
        "  test(donuts(9), 'Number of donuts: 9')\n",
        "  test(donuts(10), 'Number of donuts: many')\n",
        "  test(donuts(99), 'Number of donuts: many')\n",
        "\n",
        "  print()\n",
        "  print('both_ends')\n",
        "  test(both_ends('spring'), 'spng')\n",
        "  test(both_ends('Hello'), 'Helo')\n",
        "  test(both_ends('a'), '')\n",
        "  test(both_ends('xyz'), 'xyyz')\n",
        "\n",
        "  print()\n",
        "  print('fix_start')\n",
        "  test(fix_start('babble'), 'ba**le')\n",
        "  test(fix_start('aardvark'), 'a*rdv*rk')\n",
        "  test(fix_start('google'), 'goo*le')\n",
        "  test(fix_start('donut'), 'donut')\n",
        "\n",
        "  print()\n",
        "  print('mix_up')\n",
        "  test(mix_up('mix', 'pod'), 'pox mid')\n",
        "  test(mix_up('dog', 'dinner'), 'dig donner')\n",
        "  test(mix_up('gnash', 'sport'), 'spash gnort')\n",
        "  test(mix_up('pezzy', 'firm'), 'fizzy perm')\n",
        "# Standard boilerplate to call the main() function.\n",
        "if __name__ == '__main__':\n",
        "  main()"
      ],
      "metadata": {
        "colab": {
          "base_uri": "https://localhost:8080/"
        },
        "id": "m_UabhtHrWaE",
        "outputId": "c25b57f2-5d62-4882-efcb-0788ec299b01"
      },
      "execution_count": 12,
      "outputs": [
        {
          "output_type": "stream",
          "name": "stdout",
          "text": [
            "donuts\n",
            "  X  got: '4' expected: 'Number of donuts: 4'\n",
            "  X  got: '9' expected: 'Number of donuts: 9'\n",
            "  X  got: 'many' expected: 'Number of donuts: many'\n",
            "  X  got: 'many' expected: 'Number of donuts: many'\n",
            "\n",
            "both_ends\n",
            " OK  got: 'spng' expected: 'spng'\n",
            " OK  got: 'Helo' expected: 'Helo'\n",
            " OK  got: '' expected: ''\n",
            " OK  got: 'xyyz' expected: 'xyyz'\n",
            "\n",
            "fix_start\n",
            " OK  got: 'ba**le' expected: 'ba**le'\n",
            " OK  got: 'a*rdv*rk' expected: 'a*rdv*rk'\n",
            " OK  got: 'goo*le' expected: 'goo*le'\n",
            " OK  got: 'donut' expected: 'donut'\n",
            "\n",
            "mix_up\n",
            " OK  got: 'pox mid' expected: 'pox mid'\n",
            " OK  got: 'dig donner' expected: 'dig donner'\n",
            " OK  got: 'spash gnort' expected: 'spash gnort'\n",
            " OK  got: 'fizzy perm' expected: 'fizzy perm'\n"
          ]
        }
      ]
    }
  ]
}