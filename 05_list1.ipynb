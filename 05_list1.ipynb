{
  "nbformat": 4,
  "nbformat_minor": 0,
  "metadata": {
    "colab": {
      "provenance": []
    },
    "kernelspec": {
      "name": "python3",
      "display_name": "Python 3"
    },
    "language_info": {
      "name": "python"
    }
  },
  "cells": [
    {
      "cell_type": "code",
      "execution_count": 1,
      "metadata": {
        "id": "eGR5oj95cX1H"
      },
      "outputs": [],
      "source": [
        "#!/usr/bin/python3\n",
        "# Copyright 2010 Google Inc.\n",
        "# Licensed under the Apache License, Version 2.0\n",
        "# http://www.apache.org/licenses/LICENSE-2.0\n",
        "\n",
        "# Google's Python Class\n",
        "# http://code.google.com/edu/languages/google-python-class/\n",
        "\n",
        "# Basic list exercises\n",
        "# Fill in the code for the functions below. main() is already set up\n",
        "# to call the functions with a few different inputs,\n",
        "# printing 'OK' when each function is correct.\n",
        "# The starter code for each function includes a 'return'\n",
        "# which is just a placeholder for your code.\n",
        "# It's ok if you do not complete all the functions, and there\n",
        "# are some additional functions to try in list2.py.\n",
        "\n",
        "# A. match_ends\n",
        "# Given a list of strings, return the count of the number of\n",
        "# strings where the string length is 2 or more and the first\n",
        "# and last chars of the string are the same.\n",
        "# Note: python does not have a ++ operator, but += works.\n",
        "def match_ends(words):\n",
        "  # +++your code here+++\n",
        "  c=0\n",
        "  for i in range(len(words)): # print every element of a list\n",
        "    if len(words[i]) >= 2 and words[i][0]==words[i][-1]:\n",
        "        c=c+1\n",
        "  return c\n"
      ]
    },
    {
      "cell_type": "code",
      "source": [
        "\n",
        "# B. front_x\n",
        "# Given a list of strings, return a list with the strings\n",
        "# in sorted order, except group all the strings that begin with 'x' first.\n",
        "# e.g. ['mix', 'xyz', 'apple', 'xanadu', 'aardvark'] yields\n",
        "# ['xanadu', 'xyz', 'aardvark', 'apple', 'mix']\n",
        "# Hint: this can be done by making 2 lists and sorting each of them\n",
        "# before combining them.\n",
        "def front_x(words):\n",
        "  # +++your code here+++\n",
        "  a=[]\n",
        "  b=[]\n",
        "  for i in range(len(words)): # print every element of a list\n",
        "    if words[i][0]=='x':\n",
        "        a.append(words[i])\n",
        "    else:\n",
        "        b.append(words[i])\n",
        "  a.sort()\n",
        "  b.sort()\n",
        "  c=a+b\n",
        "  return c\n"
      ],
      "metadata": {
        "id": "xYe6HIwNk0ph"
      },
      "execution_count": 2,
      "outputs": []
    },
    {
      "cell_type": "code",
      "source": [
        "# C. sort_last\n",
        "# Given a list of non-empty tuples, return a list sorted in increasing\n",
        "# order by the last element in each tuple.\n",
        "# e.g. [(1, 7), (1, 3), (3, 4, 5), (2, 2)] yields\n",
        "# [(2, 2), (1, 3), (3, 4, 5), (1, 7)]\n",
        "# Hint: use a custom key= function to extract the last element form each tuple.\n",
        "\n",
        "def sort_last(tuples):\n",
        "  # +++your code here+++\n",
        "  a=[]\n",
        "  b=[]\n",
        "  for i in range(len(tuples)):\n",
        "    a.append(tuples[i][-1])\n",
        "  a.sort()\n",
        "  for i in range(len(tuples)):\n",
        "    for j in range(len(tuples)):\n",
        "      if tuples[i][-1]==a[j]:\n",
        "        b.append(tuples[j])\n",
        "\n",
        "  return b"
      ],
      "metadata": {
        "id": "Ah3tdugrsHDi"
      },
      "execution_count": 3,
      "outputs": []
    },
    {
      "cell_type": "code",
      "source": [
        "\n",
        "# Simple provided test() function used in main() to print\n",
        "# what each function returns vs. what it's supposed to return.\n",
        "def test(got, expected):\n",
        "  if got == expected:\n",
        "    prefix = ' OK '\n",
        "  else:\n",
        "    prefix = '  X '\n",
        "  print('%s got: %s expected: %s' % (prefix, repr(got), repr(expected)))\n",
        "\n",
        "\n",
        "# Calls the above functions with interesting inputs.\n",
        "def main():\n",
        "  print('match_ends')\n",
        "  test(match_ends(['aba', 'xyz', 'aa', 'x', 'bbb']), 3)\n",
        "  test(match_ends(['', 'x', 'xy', 'xyx', 'xx']), 2)\n",
        "  test(match_ends(['aaa', 'be', 'abc', 'hello']), 1)\n",
        "\n",
        "  print()\n",
        "  print('front_x')\n",
        "  test(front_x(['bbb', 'ccc', 'axx', 'xzz', 'xaa']),\n",
        "       ['xaa', 'xzz', 'axx', 'bbb', 'ccc'])\n",
        "  test(front_x(['ccc', 'bbb', 'aaa', 'xcc', 'xaa']),\n",
        "       ['xaa', 'xcc', 'aaa', 'bbb', 'ccc'])\n",
        "  test(front_x(['mix', 'xyz', 'apple', 'xanadu', 'aardvark']),\n",
        "       ['xanadu', 'xyz', 'aardvark', 'apple', 'mix'])\n",
        "\n",
        "  print()\n",
        "  print('sort_last')\n",
        "  test(sort_last([(1, 3), (3, 2), (2, 1)]),\n",
        "       [(2, 1), (3, 2), (1, 3)])\n",
        "  test(sort_last([(2, 3), (1, 2), (3, 1)]),\n",
        "       [(3, 1), (1, 2), (2, 3)])\n",
        "  test(sort_last([(1, 7), (1, 3), (3, 4, 5), (2, 2)]),\n",
        "       [(2, 2), (1, 3), (3, 4, 5), (1, 7)])\n",
        "\n",
        "\n",
        "if __name__ == '__main__':\n",
        "  main()\n"
      ],
      "metadata": {
        "colab": {
          "base_uri": "https://localhost:8080/"
        },
        "id": "nV14V25wiq73",
        "outputId": "3f25c8ea-5fbe-47be-f1d6-e87c6bf8005a"
      },
      "execution_count": 4,
      "outputs": [
        {
          "output_type": "stream",
          "name": "stdout",
          "text": [
            "match_ends\n",
            " OK  got: 3 expected: 3\n",
            " OK  got: 2 expected: 2\n",
            " OK  got: 1 expected: 1\n",
            "\n",
            "front_x\n",
            " OK  got: ['xaa', 'xzz', 'axx', 'bbb', 'ccc'] expected: ['xaa', 'xzz', 'axx', 'bbb', 'ccc']\n",
            " OK  got: ['xaa', 'xcc', 'aaa', 'bbb', 'ccc'] expected: ['xaa', 'xcc', 'aaa', 'bbb', 'ccc']\n",
            " OK  got: ['xanadu', 'xyz', 'aardvark', 'apple', 'mix'] expected: ['xanadu', 'xyz', 'aardvark', 'apple', 'mix']\n",
            "\n",
            "sort_last\n",
            " OK  got: [(2, 1), (3, 2), (1, 3)] expected: [(2, 1), (3, 2), (1, 3)]\n",
            " OK  got: [(3, 1), (1, 2), (2, 3)] expected: [(3, 1), (1, 2), (2, 3)]\n",
            " OK  got: [(2, 2), (1, 3), (3, 4, 5), (1, 7)] expected: [(2, 2), (1, 3), (3, 4, 5), (1, 7)]\n"
          ]
        }
      ]
    }
  ]
}