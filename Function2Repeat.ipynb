{
 "cells": [
  {
   "cell_type": "markdown",
   "id": "ad2ca310-f188-4aab-bd40-fd9a674e0588",
   "metadata": {},
   "source": [
    "# Repetition Function of Strings\n",
    "This is an example of how to repeat strings through a function"
   ]
  },
  {
   "cell_type": "code",
   "execution_count": 24,
   "id": "f3ea9183-bcc2-4de3-b98f-dd1adaa99901",
   "metadata": {},
   "outputs": [
    {
     "name": "stdin",
     "output_type": "stream",
     "text": [
      "Please, type what is going to be reapeated:  Yes\n"
     ]
    },
    {
     "name": "stdout",
     "output_type": "stream",
     "text": [
      "YesYesYes\n",
      "YesYesYes???\n"
     ]
    }
   ],
   "source": [
    "# First we define a function \"repeat\" that need two arguments\n",
    "# string: is the string that is going to be repeated\n",
    "# question: if is true it will add three question marks\n",
    "def repeat(string, question):\n",
    "    result = string*3\n",
    "    if question:\n",
    "        result = result + '???'\n",
    "    return result\n",
    "def main():\n",
    "    name = input(\"Please, type what is going to be reapeated: \")\n",
    "    print(repeat(name, False))\n"
    "    print(repeat(name, True))\n"
    "if __name__ == '__main__':\n",
    "    main()"
   ]
  },
  {
   "cell_type": "code",
   "execution_count": null,
   "id": "9151cf99-1dc8-4553-ba9f-1ed629c1236d",
   "metadata": {},
   "outputs": [],
   "source": []
  }
 ],
 "metadata": {
  "kernelspec": {
   "display_name": "Python 3 (ipykernel)",
   "language": "python",
   "name": "python3"
  },
  "language_info": {
   "codemirror_mode": {
    "name": "ipython",
    "version": 3
   },
   "file_extension": ".py",
   "mimetype": "text/x-python",
   "name": "python",
   "nbconvert_exporter": "python",
   "pygments_lexer": "ipython3",
   "version": "3.11.7"
  }
 },
 "nbformat": 4,
 "nbformat_minor": 5
}
