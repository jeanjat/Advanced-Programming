{
 "cells": [
  {
   "cell_type": "markdown",
   "id": "ad2ca310-f188-4aab-bd40-fd9a674e0588",
   "metadata": {},
   "source": [
    "# First Program\n",
    "First notebook"
   ]
  },
  {
   "cell_type": "code",
   "execution_count": null,
   "id": "84e12e39-bf13-4d51-9454-a2406cbb59c8",
   "metadata": {},
   "outputs": [],
   "source": []
  }
 ],
 "metadata": {
  "kernelspec": {
   "display_name": "Python 3 (ipykernel)",
   "language": "python",
   "name": "python3"
  },
  "language_info": {
   "codemirror_mode": {
    "name": "ipython",
    "version": 3
   },
   "file_extension": ".py",
   "mimetype": "text/x-python",
   "name": "python",
   "nbconvert_exporter": "python",
   "pygments_lexer": "ipython3",
   "version": "3.11.7"
  }
 },
 "nbformat": 4,
 "nbformat_minor": 5
}
